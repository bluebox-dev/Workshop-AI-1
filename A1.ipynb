{
  "cells": [
    {
      "cell_type": "markdown",
      "metadata": {
        "id": "HPOHzHDGue9d"
      },
      "source": [
        "# Classify Images on Webcam. \n",
        "### Dependencies Library"
      ]
    },
    {
      "cell_type": "markdown",
      "metadata": {
        "id": "XD9-Yq-dvlLb"
      },
      "source": [
        " - library : OpenWeb Camera "
      ]
    },
    {
      "cell_type": "code",
      "execution_count": 1,
      "metadata": {
        "id": "mtmABLpCDpGz"
      },
      "outputs": [],
      "source": [
        "from IPython.display import display, Javascript\n",
        "from google.colab.output import eval_js\n",
        "from base64 import b64decode, b64encode"
      ]
    },
    {
      "cell_type": "markdown",
      "metadata": {
        "id": "EWKGSIc3vj_k"
      },
      "source": [
        " - library : Image Processing & Ai tools "
      ]
    },
    {
      "cell_type": "code",
      "execution_count": 2,
      "metadata": {
        "id": "B5JTDPxFFTnb"
      },
      "outputs": [],
      "source": [
        "from keras.models import load_model\n",
        "from PIL import Image, ImageOps  \n",
        "import numpy as np \n",
        "import io\n",
        "import cv2"
      ]
    },
    {
      "cell_type": "markdown",
      "metadata": {
        "id": "8eXDv72GyBGV"
      },
      "source": [
        "#### Import File Model Teachable .h5"
      ]
    },
    {
      "cell_type": "code",
      "execution_count": null,
      "metadata": {
        "colab": {
          "base_uri": "https://localhost:8080/",
          "height": 92
        },
        "id": "1fFE3ykByAVQ",
        "outputId": "41133e33-c56e-4ca7-e3d6-238dadc2bdf7"
      },
      "outputs": [],
      "source": [
        "import zipfile\n",
        "from google.colab import files\n",
        "\n",
        "%cd /content\n",
        "uploaded = files.upload()   \n",
        "for filename in uploaded.keys():\n",
        "  pass\n",
        "\n",
        "zip_ref = zipfile.ZipFile(filename, 'r')\n",
        "zip_ref.extractall(\"/content/\")"
      ]
    },
    {
      "cell_type": "markdown",
      "metadata": {
        "id": "Yk84SDlKvjuy"
      },
      "source": [
        "#### Function OpenWebcame on Colab "
      ]
    },
    {
      "cell_type": "code",
      "execution_count": 4,
      "metadata": {
        "id": "CSwVp8R-Csp_"
      },
      "outputs": [],
      "source": [
        "def VideoCapture():\n",
        "  js = Javascript('''\n",
        "    async function create(){\n",
        "      div = document.createElement('div');\n",
        "      document.body.appendChild(div);\n",
        "\n",
        "      video = document.createElement('video');\n",
        "      video.setAttribute('playsinline', '');\n",
        "\n",
        "      div.appendChild(video);\n",
        "\n",
        "      stream = await navigator.mediaDevices.getUserMedia({video: {facingMode: \"environment\"}});\n",
        "      video.srcObject = stream;\n",
        "\n",
        "      await video.play();\n",
        "\n",
        "      canvas =  document.createElement('canvas');\n",
        "      canvas.width = video.videoWidth;\n",
        "      canvas.height = video.videoHeight;\n",
        "      canvas.getContext('2d').drawImage(video, 0, 0);\n",
        "\n",
        "      div_out = document.createElement('div');\n",
        "      document.body.appendChild(div_out);\n",
        "      img = document.createElement('img');\n",
        "      div_out.appendChild(img);\n",
        "    }\n",
        "\n",
        "      async function capture() {\n",
        "          canvas.width = video.videoWidth;  // Use half of the video resolution\n",
        "          canvas.height = video.videoHeight;\n",
        "          canvas.getContext('2d').drawImage(video, 0, 0, canvas.width, canvas.height); // Use the resized canvas for drawing the image\n",
        "          const result = canvas.toDataURL('image/jpeg', 0.8); // Reduce the image quality to 50%\n",
        "          return result;\n",
        "      }\n",
        "\n",
        "    function showimg(imgb64){\n",
        "        img.src = \"data:image/jpg;base64,\" + imgb64;\n",
        "    }\n",
        "\n",
        "  ''')\n",
        "  display(js)\n",
        "\n",
        "def byte2image(byte):\n",
        "  jpeg = b64decode(byte.split(',')[1])\n",
        "  im = Image.open(io.BytesIO(jpeg))\n",
        "  return np.array(im)\n",
        "\n",
        "def image2byte(image):\n",
        "  image = Image.fromarray(image)\n",
        "  buffer = io.BytesIO()\n",
        "  image.save(buffer, 'jpeg')\n",
        "  buffer.seek(0)\n",
        "  x = b64encode(buffer.read()).decode('utf-8')\n",
        "  return x"
      ]
    },
    {
      "cell_type": "markdown",
      "metadata": {
        "id": "I4VnFcjmw99V"
      },
      "source": [
        "#### Task Image Processing & Ai on Webcame"
      ]
    },
    {
      "cell_type": "code",
      "execution_count": null,
      "metadata": {
        "colab": {
          "base_uri": "https://localhost:8080/",
          "height": 1000
        },
        "id": "dQHbVxo1CsqA",
        "outputId": "3aa6e77b-3466-4eb9-86d3-20e12c1744ae"
      },
      "outputs": [],
      "source": [
        "VideoCapture()\n",
        "eval_js('create()')\n",
        "np.set_printoptions(suppress=True)\n",
        "model = load_model(\"/content/keras_model.h5\", compile=False)\n",
        "class_names = open(\"/content/labels.txt\", \"r\").readlines()\n",
        "while True:\n",
        "  byte = eval_js('capture()')\n",
        "  data = np.ndarray(shape=(1, 224, 224, 3), dtype=np.float32)\n",
        "  frame = byte2image(byte)\n",
        "  image = cv2.cvtColor(frame,cv2.COLOR_BGR2RGB)\n",
        "  size = (224, 224)\n",
        "  image = cv2.resize(image,size)\n",
        "  # turn the image into a numpy array\n",
        "  image_array = np.asarray(image)\n",
        "\n",
        "  # Normalize the image\n",
        "  normalized_image_array = (image_array.astype(np.float32) / 127.5) - 1\n",
        "\n",
        "  # Load the image into the array\n",
        "  data[0] = normalized_image_array\n",
        "\n",
        "  # Predicts the model\n",
        "  prediction = model.predict(data,verbose=0)\n",
        "  index = np.argmax(prediction)\n",
        "  class_name = class_names[index]\n",
        "  confidence_score = prediction[0][index]\n",
        "  cv2.putText(frame,\"class: \"+str(class_name).replace('\\n', ''), (0,25), cv2.FONT_HERSHEY_COMPLEX, .7, (255,255,255),2)\n",
        "  cv2.putText(frame,\"score: \"+str(confidence_score), (0,50), cv2.FONT_HERSHEY_COMPLEX, .7, (255,255,255),2)\n",
        "  eval_js('showimg(\"{}\")'.format(image2byte(frame)))"
      ]
    }
  ],
  "metadata": {
    "colab": {
      "provenance": []
    },
    "kernelspec": {
      "display_name": "Python 3",
      "name": "python3"
    },
    "language_info": {
      "name": "python"
    }
  },
  "nbformat": 4,
  "nbformat_minor": 0
}
